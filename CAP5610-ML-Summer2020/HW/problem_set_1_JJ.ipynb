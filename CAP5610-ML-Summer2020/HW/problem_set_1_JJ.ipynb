{
 "cells": [
  {
   "cell_type": "markdown",
   "metadata": {},
   "source": [
    "# CAP 5610 - Introduction to Machine Learning <br>Florida International University - Summer 2020\n",
    "## Problem Set #1 - Fundamental Mathematics for Machine Learning\n",
    "\n",
    "## Name: Joshuan Jimenez\n",
    "\n",
    "## Panther ID: 6059847\n",
    "\n",
    "### Instructions: \n",
    "\n",
    "Please answer the questions below. Copy this notebook and submit your answers under each problem, inserting cells as needed. You may use a combination of [python](http://jupyter-notebook.readthedocs.io/en/stable/examples/Notebook/Running%20Code.html), [markdown](http://jupyter-notebook.readthedocs.io/en/stable/examples/Notebook/Working%20With%20Markdown%20Cells.html), and [LaTex](http://data-blog.udacity.com/posts/2016/10/latex-primer/) to formulate your responses. **YOU MUST SHOW YOUR WORK TO RECEIVE FULL CREDIT.** Please add your initials to the file name prior to submission, and your name and panther ID in this cell. For example, if your name is Juana Perez, you would use the following filename: problem_set_1_JP.ipynb. Prior to completing this assignment, you should brush up on [multi-variabel calculus](https://www.khanacademy.org/math/multivariable-calculus), [linear algebra](https://www.khanacademy.org/math/linear-algebra), and [statistics](https://www.khanacademy.org/math/statistics-probability). Read chapters 1 - 6 of [Mathematics for Machine Learning](https://mml-book.github.io/book/mml-book.pdf)."
   ]
  },
  {
   "cell_type": "markdown",
   "metadata": {},
   "source": [
    "# **Problem 1. \\[10 points\\]**\n",
    "\n",
    "Write\n",
    "\n",
    "$$\\boldsymbol{y}=\\left[\\begin{array}{c}\n",
    "1 \\\\\n",
    "-2 \\\\\n",
    "5\n",
    "\\end{array}\\right]$$\n",
    "\n",
    "as a linear combination of\n",
    "\n",
    "$$\\boldsymbol{x}_{1}=\\left[\\begin{array}{l}\n",
    "1 \\\\\n",
    "1 \\\\\n",
    "1\n",
    "\\end{array}\\right], \\quad \\boldsymbol{x}_{2}=\\left[\\begin{array}{l}\n",
    "1 \\\\\n",
    "2 \\\\\n",
    "3\n",
    "\\end{array}\\right], \\quad \\boldsymbol{x}_{3}=\\left[\\begin{array}{c}\n",
    "2 \\\\\n",
    "-1 \\\\\n",
    "1\n",
    "\\end{array}\\right]$$"
   ]
  },
  {
   "cell_type": "markdown",
   "metadata": {},
   "source": [
    "$$\n",
    "\\boldsymbol{A}_{1}=\\left[\\begin{array}{l}1, 1, 2, 1\\\\1, 2, -1, -2\\\\1, 3, 1, 5\\end{array}\\right], \\boldsymbol{A}_{2}=\\left[\\begin{array}{l}1, 1, 2, 1\\\\0, 1, -3, -3\\\\1, 3, 1, 5\\end{array}\\right], \n",
    "\\boldsymbol{A}_{3}=\\left[\\begin{array}{l}1, 1, 2, 1\\\\0, 1, -3, -3\\\\0, 2, -1, 4\\end{array}\\right],\n",
    "\\boldsymbol{A}_{4}=\\left[\\begin{array}{l}1, 1, 2, 1\\\\0, 1, -3, -3\\\\0, 0, 5, 10\\end{array}\\right], \\boldsymbol{A}_{5}=\\left[\\begin{array}{l}1, 1, 2, 1\\\\0, 1, -3, -3\\\\0, 0, 1, 2\\end{array}\\right], \n",
    "\\boldsymbol{A}_{6}=\\left[\\begin{array}{l}1, 1, 2, 1\\\\0, 1, 0, 3\\\\0, 0, 1, 2\\end{array}\\right]\n",
    "$$\n",
    "\n",
    "$$\n",
    "\\boldsymbol{A}_{7}=\\left[\\begin{array}{l}1, 1, 0, -3\\\\0, 1, 0, 3\\\\0, 0, 1, 2\\end{array}\\right],\n",
    "\\boldsymbol{A}_{8}=\\left[\\begin{array}{l}1, 0, 0, -6\\\\0, 1, 0, 3\\\\0, 0, 1, 2\\end{array}\\right]\n",
    "$$\n",
    "\n",
    "\n",
    "$${y}={-6x}_{1}+{3x}_2+{2x}_3$$"
   ]
  },
  {
   "cell_type": "markdown",
   "metadata": {},
   "source": [
    "#### Problem 2. **[20 points] [Jacobian](http://mathworld.wolfram.com/Jacobian.html)**\n",
    "Consider the following functions:\n",
    "\n",
    "$$\\begin{array}{l}\n",
    "f_{1}(\\boldsymbol{x})=\\sin \\left(x_{1}\\right) \\cos \\left(x_{2}\\right), \\quad \\boldsymbol{x} \\in \\mathbb{R}^{2} \\\\\n",
    "f_{2}(\\boldsymbol{x}, \\boldsymbol{y})=\\boldsymbol{x}^{\\top} \\boldsymbol{y}, \\quad \\boldsymbol{x}, \\boldsymbol{y} \\in \\mathbb{R}^{n} \\\\\n",
    "f_{3}(\\boldsymbol{x})=\\boldsymbol{x} \\boldsymbol{x}^{\\top}, \\quad \\boldsymbol{x} \\in \\mathbb{R}^{n}\n",
    "\\end{array}$$\n",
    "\n",
    "a) What are the dimensions of $\\frac{\\partial f_{i}}{\\partial \\boldsymbol{x}}$?"
   ]
  },
  {
   "cell_type": "markdown",
   "metadata": {},
   "source": [
    "$\\frac{\\partial f_{1}}{\\partial{x}} = \\begin{bmatrix} cos(x_{1}) & cos(x_{2}) \\\\ -sin(x_{1}) & sin (x_{2})\\end{bmatrix} \\in \\mathbb{R}^{2} \\frac{\\partial f_{2}}{\\partial{x}} = y \\in \\mathbb{R}^{n} \\frac{\\partial f_{3}}{\\partial{x}}\n",
    "=\n",
    "2x \\in \\mathbb{R}^{n}$ "
   ]
  },
  {
   "cell_type": "markdown",
   "metadata": {},
   "source": [
    "b) Compute the Jacobians."
   ]
  },
  {
   "cell_type": "markdown",
   "metadata": {},
   "source": [
    "$ J_{1} = \\left[\\begin{array}{c}\n",
    "\\frac{\\partial f_{1}}{\\partial{x_{1}}}\\\\\n",
    "\\frac{\\partial f_{1}}{\\partial{x_{2}}}\n",
    "\\end{array}\\right]\n",
    "= \n",
    "\\begin{bmatrix} cos(x_{1}) & cos(x_{2}) \\\\ -sin(x_{1}) & sin (x_{2})\\end{bmatrix} \\in \\mathbb {R}^{2}\n",
    "$\n",
    "$ J_{2}(x,y) = \\left[\\begin{array}{c}\n",
    "\\frac{\\partial f_{2}}{\\partial{x_{1}}}\\\\\n",
    "\\frac{\\partial f_{2}}{\\partial{y_{2}}}\\\\\n",
    "\\frac{\\partial f_{2}}{\\partial{x_{2}}}\\\\\n",
    "\\frac{\\partial f_{2}}{\\partial{y_{2}}}\\\\\n",
    "\\vdots\\\\\n",
    "\\vdots\\\\\n",
    "\\frac{\\partial f_{2}}{\\partial{y_{n}}}\\\\\n",
    "\\frac{\\partial f_{2}}{\\partial{x_{n}}}\n",
    "\\end{array}\\right]\n",
    "= \\left[\\begin{array}{c}\n",
    "y_{1}\\\\\n",
    "x_{1}\\\\\n",
    "y_{2}\\\\\n",
    "x_{2}\\\\\n",
    "\\vdots\\\\\n",
    "\\vdots\\\\\n",
    "y_{2}\\\\\n",
    "x_{n}\n",
    "\\end{array}\\right]\n",
    "= \\left[\\begin{array}{c}\n",
    "y & x\n",
    "\\end{array}\\right]\n",
    "\\in \\mathbb{R}^{n \\times 2}\n",
    "$\n",
    "$ J_{3}(x) = \\left[\\begin{array}{c}\n",
    "\\frac{\\partial f_{3}}{\\partial{x_{1}}}\\\\\n",
    "\\frac{\\partial f_{3}}{\\partial{x_{2}}}\\\\\n",
    "\\vdots\\\\\n",
    "\\frac{\\partial f_{3}}{\\partial{x_{n}}}\n",
    "\\end{array}\\right]\n",
    "= \\left[\\begin{array}{c}\n",
    "2x_{1}\\\\\n",
    "2x_{x}\\\\\n",
    "\\vdots\\\\\n",
    "2x_{n}\n",
    "\\end{array}\\right]\n",
    "= \n",
    "2x \\in \\mathbb{R}^{n}\n",
    "$"
   ]
  },
  {
   "cell_type": "markdown",
   "metadata": {},
   "source": [
    "#### Problem  3. **[20 points] [Gradients](https://www.khanacademy.org/math/multivariable-calculus/multivariable-derivatives/partial-derivative-and-gradient-articles/a/the-gradient) and [Hessians](https://www.khanacademy.org/math/multivariable-calculus/applications-of-multivariable-derivatives/quadratic-approximations/a/the-hessian)**  \n",
    "\n",
    "A matrix $\\mathbf{A} \\in \\mathbb{R}^{n \\times n}$ is considered *symmetric* if $\\mathbf{A}^{T}=\\mathbf{A}$, that is if $\\mathbf{A}_{ij} = \\mathbf{A}_{ji}$ for every $i,j$. The **gradient**, $\\nabla f(x)$, of a function, $f:\\mathbb{R}^n \\rightarrow \\mathbb{R}$, is defined as the *n*-vector of partial derivatives\n",
    "\n",
    "$$\\nabla f(x) = \\begin{bmatrix} \\frac{\\partial}{\\partial x_1}f(x) \\\\ \\vdots \\\\ \\frac{\\partial}{\\partial x_n}f(x) \\end{bmatrix} \\text{ where } \\mathbf{x}=\\begin{bmatrix} x_1 \\\\ \\vdots \\\\ x_n \\end{bmatrix}.$$\n",
    "\n",
    "Similarly, the Hessian, $\\nabla^2 f(x)$ of a function, $f:\\mathbb{R}^n \\rightarrow \\mathbb{R}$, is the $n \\times n$ symmetric matrix of second-order partial derivatives, \n",
    "\n",
    "\n",
    "$$\\nabla^2 f(x) = \\begin{bmatrix} \\frac{\\partial^2}{\\partial x^2_1}f(x) & \\frac{\\partial^2}{\\partial x_1 \\partial x_2}f(x) & \\dots & \\frac{\\partial^2}{\\partial x_1 \\partial x_n}f(x) \\\\ \\frac{\\partial^2}{\\partial x_2 \\partial x_1}f(x) & \\frac{\\partial^2}{\\partial x^2_2}f(x) & \\dots & \\frac{\\partial^2}{\\partial x_2 \\partial x_n}f(x) \\\\ \\vdots & \\vdots & \\ddots & \\vdots\\\\ \\frac{\\partial^2}{\\partial x_n \\partial x_1}f(x) & \\frac{\\partial^2}{\\partial x_n \\partial x_2}f(x) & \\dots & \\frac{\\partial}{\\partial x^2_n}f(x) \\end{bmatrix}.$$\n",
    "\n",
    "a) Let $f(x)= \\frac{1}{2}\\mathbf{x}^T\\mathbf{A}\\mathbf{x} + \\mathbf{b}^T\\mathbf{x}$ where $\\mathbf{A}$ is a symmetric matrix and $\\mathbf{b} \\in \\mathbb{R}^n$ is a vector. What is $\\nabla f(x)$?"
   ]
  },
  {
   "cell_type": "markdown",
   "metadata": {},
   "source": [
    "$f(x)=\\frac{1}{2}\\mathbf{x}^{T}{A}{x} + {b}^{T}{x}$\n",
    "\n",
    "$\\nabla f(x)={A}{x} + {b}$"
   ]
  },
  {
   "cell_type": "markdown",
   "metadata": {},
   "source": [
    "b) Let $f(x)=g(h(x))$, where $g: \\mathbb{R} \\rightarrow \\mathbb{R}$ is differentiable and $h: \\mathbb{R}^n \\rightarrow \\mathbb{R}$ is differentiable. What is $\\nabla f(x)$?"
   ]
  },
  {
   "cell_type": "markdown",
   "metadata": {},
   "source": [
    "$f(x)=g(h(x))$\n",
    "\n",
    "$\\nabla f(x)=g'(h(x))\\nabla f(x)$"
   ]
  },
  {
   "cell_type": "markdown",
   "metadata": {},
   "source": [
    "c) Let $f(x)= \\frac{1}{2}\\mathbf{x}^T\\mathbf{A}\\mathbf{x} + \\mathbf{b}^T\\mathbf{x}$ where $\\mathbf{A}$ is a symmetric matrix and $\\mathbf{b} \\in \\mathbb{R}^n$ is a vector. What is $\\nabla^2 f(x)$?"
   ]
  },
  {
   "cell_type": "markdown",
   "metadata": {},
   "source": [
    "$f(x)= \\frac{1}{2}x^TAx + b^Tx$\n",
    "\n",
    "$\\nabla^2 f(x) = A$"
   ]
  },
  {
   "cell_type": "markdown",
   "metadata": {},
   "source": [
    "d) Let $f(x)=g(a^Tx)$, where $g: \\mathbb{R} \\rightarrow \\mathbb{R}$ is continuously differentiable and $a \\in \\mathbb{R}^n$ is a vector. What are $\\nabla f(x)$ and $\\nabla^2 f(x)$?"
   ]
  },
  {
   "cell_type": "markdown",
   "metadata": {},
   "source": [
    "$f(x)=g(a^Tx)$\n",
    "\n",
    "$\\nabla f(x)=g'(a^Tx)a$\n",
    "\n",
    "$\\nabla^2 f(x)=g''(a^Tx)aa^T$"
   ]
  },
  {
   "cell_type": "markdown",
   "metadata": {},
   "source": [
    "#### Problem 4. **[10 points] [Positive definite matrices](https://cedar.buffalo.edu/~srihari/CSE574/Chap1/LinearAlgebra.pdf)**  \n",
    "\n",
    "A matrix $\\mathbf{A} \\in \\mathbb{R}^{n \\times n}$ is *positive semi-definite* (PSD), denoted $\\mathbf{A} \\succeq 0$, if $\\mathbf{A} = \\mathbf{A}^T$ and $\\mathbf{x}^T\\mathbf{A}\\mathbf{x} \\geq 0$ for all $\\mathbf{x} \\in \\mathbb{R}^n$. A matrix $\\mathbf{A} \\in \\mathbb{R}^{n \\times n}$ is *positive definite*, denoted $\\mathbf{A} \\succ 0$, if $\\mathbf{A} = \\mathbf{A}^T$ and $\\mathbf{x}^T\\mathbf{A}\\mathbf{x} \\gt 0$ for all $\\mathbf{x} \\neq 0$, that is, all non-zero vectors $\\mathbf{x}$. In simple terms, a matrix $\\mathbf{A}$ whose eigenvalues are all positive is called *positive definite*. A matrix $\\mathbf{A}$ whose eigenvalues are all positive or zero is called positive semi-definite. If the eigenvalues of a matrix $\\mathbf{A}$ are negative, then the matrix is said to be negative definite.\n",
    "\n",
    "a)Recall the identity matrix, $\\mathbf{I}_n$, is a matrix of size $n \\times n$ with ones along the diagonal. For example, $\\mathbf{I}_3$ is\n",
    "\n",
    "$$\\mathbf{I}_3 = \\begin{bmatrix} 1 & 0 & 0 \\\\ 0 & 1 & 0 \\\\ 0 & 0 & 1\\end{bmatrix}$$\n",
    "\n",
    "Show that the identity matrix $\\mathbf{I}_n$ is positive definite."
   ]
  },
  {
   "cell_type": "markdown",
   "metadata": {},
   "source": [
    "Referring to ${I}_{3}$, each pivot would be positive, since they will be the first non-zero element (1). This means for ${I}_{n}$ with n rows, there would be n pivots that are 1. From this, it can be said ${I}_{n}$ would be a positive definite matrix."
   ]
  },
  {
   "cell_type": "markdown",
   "metadata": {},
   "source": [
    "b) Let $\\mathbf{z} \\in \\mathbb{R}^n$ be an $n$-vector. Show that $\\mathbf{A} = \\mathbf{z}\\mathbf{z}^T$ is positive semi-definite."
   ]
  },
  {
   "cell_type": "markdown",
   "metadata": {},
   "source": [
    "${x}^{T} {A}{x} = {x}^{T}*({z}{z}^{T})*{x} = ({x}^{T}{z})^{2} ≥ 0$"
   ]
  },
  {
   "cell_type": "markdown",
   "metadata": {},
   "source": [
    "c) Let $\\mathbf{z} \\in \\mathbb{R}^n$ be a *non-zero* $n$-vector. Let $\\mathbf{A} = \\mathbf{z}\\mathbf{z}^T$. What is the [nullspace](https://www.khanacademy.org/math/linear-algebra/vectors-and-spaces/null-column-space/v/null-space-2-calculating-the-null-space-of-a-matrix) of $\\mathbf{A}$? What is the [rank](https://www.khanacademy.org/math/linear-algebra/vectors-and-spaces/null-column-space/v/dimension-of-the-column-space-or-rank) of $\\mathbf{A}$?"
   ]
  },
  {
   "cell_type": "markdown",
   "metadata": {},
   "source": [
    "Null Space:\n",
    "\n",
    "$Ax = 0$\n",
    "\n",
    "$zz^Tx = 0$\n",
    "\n",
    "$z^Tx = 0$\n",
    "\n",
    "Rank:\n",
    "\n",
    "$rank(A) + (n-1) = n$\n",
    "\n",
    "$rank(A) = 1$"
   ]
  },
  {
   "cell_type": "markdown",
   "metadata": {},
   "source": [
    "d) Let $\\mathbf{A} \\in \\mathbb{R}^{n \\times n}$ be positvie semi-definite and $\\mathbf{B} \\in \\mathbb{R}^{m \\times n}$ be arbitrary, where $m,n \\in \\mathbb{N}$. Is $\\mathbf{B}\\mathbf{A}\\mathbf{B}^T$ PSD? If so, prove it. If not, give a counter example with explicit $\\mathbf{A},\\mathbf{B}$."
   ]
  },
  {
   "cell_type": "markdown",
   "metadata": {},
   "source": [
    "PSD if $x^TBAB^Tx ≥ 0$\n",
    "\n",
    "$x^TBAB^Tx$ = $(x^TB)A(B^Tx)$ = $(B^Tx)^TA(B^Tx)$ = $z^TAz ≥ 0$\n",
    "\n",
    "Therefore, $BAB^T$ is PSD"
   ]
  },
  {
   "cell_type": "markdown",
   "metadata": {},
   "source": [
    "#### Problem 5. **[10 points] [Eigen Vectors, eigenvalues, and the spectral theorem](https://www.khanacademy.org/math/linear-algebra/alternate-bases#eigen-everything)**  \n",
    "\n",
    "The eigen values of an nxn matrix $\\mathbf{A} \\in \\mathbb{R}^{n \\times n}$ are the roots of the characteristic polynomial $p_A(\\lambda)= \\text{det}(\\lambda \\mathbf{I} - \\mathbf{A})$, which may be in general complex. They are also defined as the values $\\lambda \\in \\mathbb{C}$ for which there exists a vector $\\mathbf{x} \\in \\mathbb{C}^n$ to the n  such that $\\mathbf{A}\\mathbf{x} = \\lambda \\mathbf{x}$. We call such a pair $(\\mathbf{x}, \\lambda)$, the *eigenvector*, *eigenvalue* pair. Here we use the notation $\\text{diag}(\\lambda_1,\\dots,\\lambda_n)$ to denote the diagonal matrix with diagonal entries $\\lambda_1, \\dots, \\lambda_n$ that is,\n",
    "\n",
    "$$\\text{diag}(\\lambda_1,\\dots,\\lambda_n) = \\begin{bmatrix} \n",
    "\\lambda_1 & 0 & 0 & \\dots & 0 \\\\\n",
    "0 & \\lambda_2 & 0 & \\dots & 0 \\\\\n",
    "0 & 0 & \\lambda_3 & \\dots & 0 \\\\\n",
    "\\vdots & \\vdots & \\vdots & \\ddots & \\vdots \\\\\n",
    "0 & 0 & 0 & \\dots & \\lambda_n\n",
    "\\end{bmatrix}.$$\n",
    "\n",
    "a) Suppose that the matrix $\\mathbf{A} \\in \\mathbb{R}^{n \\times n}$ is diagonalizable, that is, $\\mathbf{A} = \\mathbf{T} \\mathbf{\\Lambda} \\mathbf{T}^{-1}$ for an invertible matrix $\\mathbf{T} \\in \\mathbb{R}^{n \\times n}$, where $\\mathbf{\\Lambda} = \\text{diag}(\\lambda_1, \\dots, \\lambda_n)$ is diagonal. Use the notation $t^{(i)}$ for the columns of $\\mathbf{T}$, so that $\\mathbf{T} = \\begin{bmatrix} t^{(1)} & \\dots & t^{(n)}\\end{bmatrix}$, where $t^{(i)} \\in \\mathbb{R}^n$. Show that $\\mathbf{A}t^{(i)} = \\lambda_i t^{(i)}$ so that the eigenvalue/eigenvector pairs of $\\mathbf{A}$ are $(t^{(i)}, \\lambda_i)$."
   ]
  },
  {
   "cell_type": "markdown",
   "metadata": {},
   "source": [
    "$\\mathbf{A} = \\mathbf{T} \\mathbf{\\Lambda} \\mathbf{T}^{-1}\\\\\n",
    "\\mathbf{AT} = \\mathbf{T} \\mathbf{\\Lambda}\n",
    "$\n",
    "\n",
    "$\\mathbf{A}\n",
    "\\begin{bmatrix}\n",
    "| & | &  & |\\\\\n",
    "\\mathbf {t}^{(1)} & \\mathbf{{t}^{(2)}} & \\dots & \\mathbf{t}^{(n)}\\\\\n",
    "| & | &  & |\\\\\n",
    "\\end{bmatrix}\n",
    "=\n",
    "\\begin{bmatrix}\n",
    "| & | &  & |\\\\\n",
    "\\mathbf {t}^{(1)} & \\mathbf{{t}^{(2)}} & \\dots & \\mathbf{t}^{(n)}\\\\\n",
    "| & | &  & |\\\\\n",
    "\\end{bmatrix}\n",
    "\\begin{bmatrix} \n",
    "\\lambda_1 & 0  & \\dots & 0 \\\\\n",
    "0 & \\lambda_2  & \\dots & 0 \\\\\n",
    "\\vdots & \\vdots  & \\ddots & \\vdots \\\\\n",
    "0 & 0  & \\dots & \\lambda_n\n",
    "\\end{bmatrix}\n",
    "\\\\\n",
    "\\begin{bmatrix}\n",
    "| & | &  & |\\\\\n",
    "\\mathbf {At}^{(1)} & \\mathbf{{At}^{(2)}} & \\dots & \\mathbf{At}^{(n)}\\\\\n",
    "| & | &  & |\\\\\n",
    "\\end{bmatrix}\n",
    "=\n",
    "\\begin{bmatrix}\n",
    "| & | &  & |\\\\\n",
    "\\lambda_1\\mathbf {t}^{(1)} & \\lambda_2\\mathbf{{t}^{(2)}} & \\dots & \\lambda_n\\mathbf{t}^{(n)}\\\\\n",
    "| & | &  & |\\\\\n",
    "\\end{bmatrix}\n",
    "\\\\\n",
    "\\therefore \\mathbf {At}^{(i)} = \\lambda_i\\mathbf {t}^{(i)} \\, i \\in \\{1, 2, ..., n\\} \n",
    "$ "
   ]
  },
  {
   "cell_type": "markdown",
   "metadata": {},
   "source": [
    "A matrix $\\mathbf{U} \\in \\mathbb{R}^{n \\times n}$ is *orthogonal* if $\\mathbf{U}^T\\mathbf{U}=\\mathbf{I}$. The spectral theorem states that if $\\mathbf{A} \\in \\mathbb{R}^{n \\times n}$ is symmetric, that is $\\mathbf{A} = \\mathbf{A}^T$, then $\\mathbf{A}$ is *diagonalizable by a real orthogonal matrix*. In other words, there are a diagonal matrix $\\mathbf{\\Lambda} \\in \\mathbb{R}^{n \\times n}$ and orthogonal matrix $\\mathbf{U} \\in \\mathbb{R}^{n \\times n}$ such that $\\mathbf{U}^T\\mathbf{A}\\mathbf{U} = \\mathbf{\\Lambda}$, or equivalently,\n",
    "$$\\mathbf{A}=\\mathbf{U}\\mathbf{\\Lambda} \\mathbf{U}^T.$$\n",
    "\n",
    "Let $\\lambda_i = \\lambda_i(\\mathbf{A})$ denote the $i$th eigenvalue of $\\mathbf{A}$.\n",
    "\n",
    "b) Let $\\mathbf{A}$ be symmetric. Show that if $\\mathbf{U} = \\begin{bmatrix} u^{(1)} & \\dots & u^{(n)} \\end{bmatrix}$ is orthogonal, where $u^{(i)} \\in \\mathbb{R}^n$ and $\\mathbf{A}=\\mathbf{U}\\mathbf{\\Lambda} \\mathbf{U}^T$, then $u^{(i)}$ is an eigenvector of $\\mathbf{A}$ and $\\mathbf{A}u^{(i)} = \\lambda_i u^{(i)}$, where $\\mathbf{\\Lambda} = \\text{diag}(\\lambda_1, \\dots, \\lambda_n)$."
   ]
  },
  {
   "cell_type": "markdown",
   "metadata": {},
   "source": [
    "$\n",
    "\\mathbf{A}\n",
    "\\begin{bmatrix}\n",
    "| & | &  & |\\\\\n",
    "\\mathbf {u}^{(1)} & \\mathbf{{u}^{(2)}} & \\dots & \\mathbf{u}^{(n)}\\\\\n",
    "| & | &  & |\\\\\n",
    "\\end{bmatrix}\n",
    "=\n",
    "\\begin{bmatrix}\n",
    "| & | &  & |\\\\\n",
    "\\mathbf {u}^{(1)} & \\mathbf{{u}^{(2)}} & \\dots & \\mathbf{u}^{(n)}\\\\\n",
    "| & | &  & |\\\\\n",
    "\\end{bmatrix}\n",
    "\\begin{bmatrix} \n",
    "\\lambda_1 & 0  & \\dots & 0 \\\\\n",
    "0 & \\lambda_2  & \\dots & 0 \\\\\n",
    "\\vdots & \\vdots  & \\ddots & \\vdots \\\\\n",
    "0 & 0  & \\dots & \\lambda_n\n",
    "\\end{bmatrix}\n",
    "\\\\\n",
    "\\begin{bmatrix}\n",
    "| & | &  & |\\\\\n",
    "\\mathbf {Au}^{(1)} & \\mathbf{{Au}^{(2)}} & \\dots & \\mathbf{Au}^{(n)}\\\\\n",
    "| & | &  & |\\\\\n",
    "\\end{bmatrix}\n",
    "=\n",
    "\\begin{bmatrix}\n",
    "| & | &  & |\\\\\n",
    "\\lambda_1\\mathbf {u}^{(1)} & \\lambda_2\\mathbf{{u}^{(2)}} & \\dots & \\lambda_n\\mathbf{u}^{(n)}\\\\\n",
    "| & | &  & |\\\\\n",
    "\\end{bmatrix}\n",
    "\\\\\n",
    "\\therefore \\mathbf {Au}^{(i)} = \\lambda_i\\mathbf {u}^{(i)} \\, i \\in \\{1, 2, ..., n\\} \n",
    "$ "
   ]
  },
  {
   "cell_type": "markdown",
   "metadata": {},
   "source": [
    "c) Show that if $\\mathbf{A}$ is positive semi-definite, then $\\lambda_i(\\mathbf{A}) \\geq 0$ for each $i$."
   ]
  },
  {
   "cell_type": "markdown",
   "metadata": {},
   "source": [
    "$\n",
    "\\mathbf{{At}^{(i)} = \\lambda_i t^{(i)}}\\\\\n",
    "\\mathbf{{t}^{{(i)}^{T}} {At}^{(i)} = {t}^{{(i)}^{T}} \\lambda_i t^{(i)}}\\\\\n",
    "\\hspace{30pt} = \\mathbf{\\lambda_i {t}^{{(i)}^{T}} \\, {t}^{(i)}  \\geq 0} \\quad A is PSD\\\\\n",
    "\\large{\\mathbf{\\lambda_i \\geq \\frac{0}{{t}^{{(i)}^{T} \\, {t}^{(i)}}}}}\\\\\n",
    "\\large{\\mathbf{\\lambda_i \\geq 0}}\n",
    "$"
   ]
  },
  {
   "cell_type": "markdown",
   "metadata": {},
   "source": [
    "#### Problem 6. **[20 points] [Probability, Statistics, and Conditional Probability](https://www.cs.cmu.edu/~aarti/Class/10701/recitation/prob_review.pdf)**\n",
    "\n",
    "An aircraft emergency locator transmitter (ELT) is a device designed to transmit a signal in the case of a crash. The ACME Manufacturing Company makes 70% of the ELTs, the B. BUNNY Company makes 25% of them, and the W. E. COYOTE Company makes the other 5%. The ELTs made by ACME have a 3.5% rate of defects, the B. BUNNY ELTs have a 5% rate of defects, and the W. E. COYOTE ELTs have a 8% rate of defects (which helps to explain why W. E. COYOTE has the lowest market share).\n",
    "\n",
    "a) If a locator is randomly selected from the general population of all locators, find the probability that it was made by the ACME Manufacturing Company."
   ]
  },
  {
   "cell_type": "markdown",
   "metadata": {},
   "source": [
    "**A** = Event that a randomly selected ELT is manufactured by ACME Manufacturing Company.\n",
    "\n",
    "**B** = Event that a randomly selected ELT is manufactured by B. BUNNY ELTs.\n",
    "\n",
    "**W** = Event that a randomly selected ELT is manufactured by W. E. COYOTE company.\n",
    "\n",
    "**D** = Event that a randomly selected ELT is defective.\n",
    "\n",
    "**P(A)** = 0.7\n",
    "\n",
    "**P(B)** = 0.25\n",
    "\n",
    "**P(W)** = 0.05\n",
    "\n",
    "**P(D|A)** = 0.035\n",
    "\n",
    "**P(D|B)** = 0.05\n",
    "\n",
    "**P(D|W)** = 0.08"
   ]
  },
  {
   "cell_type": "code",
   "execution_count": 1,
   "metadata": {},
   "outputs": [
    {
     "data": {
      "text/plain": [
       "0.7"
      ]
     },
     "execution_count": 1,
     "metadata": {},
     "output_type": "execute_result"
    }
   ],
   "source": [
    "0.7"
   ]
  },
  {
   "cell_type": "markdown",
   "metadata": {},
   "source": [
    "b) If a randomly selected locator is then tested and is found to be defective, find the probability that it was made by the ACME Manufacturing Company.\n",
    "\n",
    "$P(D) = P(D\\cap A) + P(D\\cap B) + P(D\\cap W)\\\\\n",
    "= P(A)P(D|A) + P(B)P(D|B) + P(W)P(D|W)\\\\\n",
    "$\n",
    "\n",
    "P(D) = 0.7 * 0.035 + 0.25 * 0.05 + 0.05 * 0.08\n",
    "\n",
    "$P(A|D)\n",
    "= {\\large\\frac{P(A)P(D|A)}{P(D)}}$\n",
    "\n",
    "(0.7 * 0.035) / (0.7 * 0.035 + 0.25 * 0.05 + 0.05 * 0.08)"
   ]
  },
  {
   "cell_type": "code",
   "execution_count": 2,
   "metadata": {},
   "outputs": [
    {
     "data": {
      "text/plain": [
       "0.597560975609756"
      ]
     },
     "execution_count": 2,
     "metadata": {},
     "output_type": "execute_result"
    }
   ],
   "source": [
    "(0.7 * 0.035) / (0.7 * 0.035 + 0.25 * 0.05 + 0.05 * 0.08)"
   ]
  },
  {
   "cell_type": "markdown",
   "metadata": {},
   "source": [
    "**Problem 7. [10 points] [Bayes' Theorem](https://plato.stanford.edu/entries/bayes-theorem/)**\n",
    "\n",
    "There are two bags. The first bag contains 6 avocados and 3 star fruit. The second bag contains 6 avocados and 6 star fruit. There is also a biased coin, which shows \"head\" with probability 0.6 and \"tails\" with probability of 0.4. We have the following rule for picking fruit: If the coin is tossed and you get \"heads\", you pick a fruit at random from bag 1. Otherwise, you pick a fruit at random from bag 2. Your friend then proceeds to toss the biased coin (and you cannot see the result), picks a fruit at random from the corresponding bag (which you cannot see either), and presents you an avocado. What is the probability that the avocado was picked from bag 2?\n",
    "\n",
    "$A$ = Event that an avocado is picked\n",
    "\n",
    "${B}_{1}$ = Event that a randomly selected fruit is picked from bag 1\n",
    "\n",
    "${B}_{2}$ = Event that a randomly selected fruit is picked from bag 2\n",
    "\n",
    "$\n",
    "P({B}_{1}) = {\\frac{3}{5}}\\ P({B}_{2}) = {\\frac{2}{5}} \\ P({A|B}_{1}) = {\\frac{2}{3}}\\ P({A|B}_{2}) = {\\frac{1}{2}}\\\n",
    "$\n",
    "\n",
    "Probability that the avocado was picked from bag 2\n",
    "\n",
    "$P({B}_{2}|A) =  {\\large\\frac{P({B}_{2})P(A|{B}_{2})}{P({B}_{1})P(A|{B}_{1}) + P({B}_{2})P(A|{B}_{2})}}$\n",
    "\n",
    "$= {\\large\\frac{\\frac{2}{5} \\times \\frac{1}{2}}{\\frac{3}{5} \\times \\frac{2}{3} + \\frac{2}{5} \\times \\frac{1}{2}} = \\frac{\\frac{1}{5}}{\\frac{3}{5} + \\frac{1}{5}}} = {\\large\\frac{1}{3}}$"
   ]
  },
  {
   "cell_type": "code",
   "execution_count": 3,
   "metadata": {},
   "outputs": [
    {
     "data": {
      "text/plain": [
       "0.3333333333333333"
      ]
     },
     "execution_count": 3,
     "metadata": {},
     "output_type": "execute_result"
    }
   ],
   "source": [
    "1/3"
   ]
  }
 ],
 "metadata": {
  "kernelspec": {
   "display_name": "Python 3",
   "language": "python",
   "name": "python3"
  },
  "language_info": {
   "codemirror_mode": {
    "name": "ipython",
    "version": 3
   },
   "file_extension": ".py",
   "mimetype": "text/x-python",
   "name": "python",
   "nbconvert_exporter": "python",
   "pygments_lexer": "ipython3",
   "version": "3.7.6"
  }
 },
 "nbformat": 4,
 "nbformat_minor": 2
}
