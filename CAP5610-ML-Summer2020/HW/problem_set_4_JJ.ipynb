{
 "cells": [
  {
   "cell_type": "markdown",
   "metadata": {},
   "source": [
    "# CAP 5610 - Introduction to Machine Learning <br>Florida International University - Summer 2019\n",
    "## Problem Set #4\n",
    "### Instructions:\n",
    "\n",
    "Please answer the questions below. Copy this notebook and submit your answers under each problem, inserting cells as needed. You may use a combination of [python](http://jupyter-notebook.readthedocs.io/en/stable/examples/Notebook/Running%20Code.html), [markdown](http://jupyter-notebook.readthedocs.io/en/stable/examples/Notebook/Working%20With%20Markdown%20Cells.html), and [LaTex](http://data-blog.udacity.com/posts/2016/10/latex-primer/) to formulate your responses. Please add your initials to the file name prior to submission. For example, if your name is Juana Perez, you would use the following filename: problem_set_4_JP.ipynb. Prior to completing this assignment, you should complete all of the items in the Reinforcement Learning module."
   ]
  },
  {
   "cell_type": "markdown",
   "metadata": {},
   "source": [
    "#### Problem 1. **[10 points]** Policy Iteration"
   ]
  },
  {
   "cell_type": "markdown",
   "metadata": {},
   "source": [
    "Using the GridWorld implementation discussed in the example sets (https://github.com/drmaj/gridworldsgym), implement the policy iteration algorithm. Verify that the algorithm works on GridWorld-v0 and then test it on the remaining gridworlds."
   ]
  },
  {
   "cell_type": "code",
   "execution_count": 1,
   "metadata": {},
   "outputs": [],
   "source": [
    "%matplotlib inline\n",
    "import time\n",
    "import gym\n",
    "import gridworldsgym \n",
    "import numpy as np\n",
    "from IPython import display\n",
    "import matplotlib\n",
    "import matplotlib.pyplot as plt\n",
    "plt.rcParams['figure.figsize'] = [12,12]\n",
    "\n",
    "def value_iteration(env, gamma=0.999, epsilon=0.001):\n",
    "    states = [s for s in range(env.num_states)]\n",
    "    actions = [a for a in range(env.num_actions)]\n",
    "    V1 = {s: 0 for s in states}\n",
    "    R, P = env.R, env.P\n",
    "\n",
    "    while True:\n",
    "        V = V1.copy()\n",
    "        delta = 0\n",
    "        for s in states:\n",
    "            V1[s] = R(s) + gamma * max(sum(p * V1[s_prime] for (p, s_prime, done) in P(s, a)) for a in actions)\n",
    "            delta = max(delta, abs(V1[s] - V[s]))\n",
    "\n",
    "        if delta <= epsilon * (1 - gamma) / gamma:\n",
    "            return V\n",
    "\n",
    "def policy_iteration(env, gamma=0.999, epsilon=0.001):\n",
    "    states = [s for s in range(env.num_states)]\n",
    "    actions = [a for a in range(env.num_actions)]\n",
    "    R, P = env.R, env.P\n",
    "    policy = [0 for s in range(env.num_states)]\n",
    "    V = {s: 0 for s in states}\n",
    "\n",
    "    is_value_changed = True\n",
    "    iterations = 0\n",
    "    while is_value_changed:\n",
    "        is_value_changed = False\n",
    "        iterations += 1\n",
    "        for s in states:\n",
    "            iterations += 1\n",
    "            V[s] = R(s) + gamma * max(sum(p * V[s_prime] for (p, s_prime, done) in P(s, a)) for a in actions)\n",
    "            \n",
    "        for s in states:\n",
    "            q_best = V[s]\n",
    "            for a in actions:\n",
    "                q_sa = sum(p * V[s_prime] for (p, s_prime, done) in P(s, a))\n",
    "                if q_sa > q_best:\n",
    "                    print (\"State\", s, \": q_sa\", q_sa, \"q_best\", q_best)\n",
    "                    policy[s] = a\n",
    "                    q_best = q_sa\n",
    "                    is_value_changed = True\n",
    "        return V\n",
    "        \n",
    "def pretty_print(V, env):\n",
    "    grid = np.zeros((env.height, env.width))\n",
    "    for state, value in V.items():\n",
    "        row, col = env.to_row_col(state)\n",
    "        grid[row][col] = value\n",
    "    print(grid)\n",
    "    \n",
    "def pi_star(state, P, V):\n",
    "    actions = [a for a in range(env.num_actions)]\n",
    "    action_values = []\n",
    "    for action in actions:\n",
    "        transitions = env.P(state, action)\n",
    "        action_value = 0\n",
    "        for p, next_state, _ in transitions:\n",
    "            action_value += p * V[next_state]\n",
    "        action_values.append(action_value)\n",
    "\n",
    "    return np.argmax(action_values)"
   ]
  },
  {
   "cell_type": "code",
   "execution_count": 2,
   "metadata": {},
   "outputs": [],
   "source": [
    "env = gym.make('GridWorld-v0')\n",
    "state = env.reset()"
   ]
  },
  {
   "cell_type": "code",
   "execution_count": 3,
   "metadata": {},
   "outputs": [],
   "source": [
    "V = policy_iteration(env)"
   ]
  },
  {
   "cell_type": "code",
   "execution_count": 4,
   "metadata": {},
   "outputs": [
    {
     "name": "stdout",
     "output_type": "stream",
     "text": [
      "[[ 0.79540959  0.83624584  0.87712296  0.83624584]\n",
      " [ 0.83624584         nan  0.918041   -1.        ]\n",
      " [ 0.87712296  0.918041    0.959       1.        ]]\n"
     ]
    }
   ],
   "source": [
    "pretty_print(V,env)"
   ]
  },
  {
   "cell_type": "code",
   "execution_count": 5,
   "metadata": {},
   "outputs": [
    {
     "data": {
      "image/png": "[encoded data removed]",
      "text/plain": [
       "<Figure size 864x864 with 1 Axes>"
      ]
     },
     "metadata": {
      "needs_background": "light"
     },
     "output_type": "display_data"
    }
   ],
   "source": [
    "state = env.reset()\n",
    "img = plt.imshow(env.render(mode='rgb_array')) # only call this once\n",
    "actions = [a for a in range(env.num_actions)]\n",
    "done = False\n",
    "time.sleep(0.5)\n",
    "while not done:\n",
    "    action = pi_star(state, env.P, V)\n",
    "    state, reward, done, info = env.step(action)\n",
    "    img.set_data(env.render(mode='rgb_array'))\n",
    "    display.display(plt.gcf())\n",
    "    display.clear_output(wait=True)\n",
    "    time.sleep(0.5)\n",
    "    \n",
    "env.close()\n",
    "env = None"
   ]
  },
  {
   "cell_type": "markdown",
   "metadata": {},
   "source": [
    "#### Problem 2. **[10 points]** Additional Questions\n",
    "\n",
    "* How does policy iteration compare with value iteration, in terms of speed of convergence and final policy performance?\n",
    "* Do they arrive at the same solution for the MDPs tested?\n",
    "* Read the following: https://towardsdatascience.com/training-an-agent-to-beat-grid-world-fac8a48109a8. What is Q-learning and how does it compare to Value Iteration and Policy Iteration for solving grid world MDPs?"
   ]
  },
  {
   "cell_type": "markdown",
   "metadata": {},
   "source": []
  },
  {
   "cell_type": "markdown",
   "metadata": {},
   "source": [
    "Policy iteration starts with a random policy, then finds the value function of that policy. After that, it it finds a new improved policy based on the previous value function, and so on. It is guaranteed to converge to the optimal policy, and it often takes less iterations to converge than the value iteration algorithm, which makes it faster than value iteration in most of the cases.\n",
    "\n",
    "Value iteration it starts with a random value function, and then finds a new improved value function in a iterative process, untilreaching the optimal value function. Value iteration is guaranteed to converge to the optimal values.\n",
    "\n",
    "It depends on the MDP tested. They could arrive to the same solution, and sometimes they will have different solutions.\n",
    "\n",
    "Q-learning is an off policy reinforcement learning algorithm that seeks to find the best action to take given the current state. It’s considered off-policy because the q-learning function learns from actions that are outside the current policy, like taking random actions, and therefore a policy isn’t needed. More specifically, q-learning seeks to learn a policy that maximizes the total reward. The ‘q’ in q-learning stands for quality. Quality in this case represents how useful a given action is in gaining some future reward.\n",
    "\n",
    "This is different from Value Iteration and Policy Iteration as it does not care about the current policy and puts a bigger emphasis on random actions in order to find the best policy in a given state."
   ]
  }
 ],
 "metadata": {
  "kernelspec": {
   "display_name": "Python 3",
   "language": "python",
   "name": "python3"
  },
  "language_info": {
   "codemirror_mode": {
    "name": "ipython",
    "version": 3
   },
   "file_extension": ".py",
   "mimetype": "text/x-python",
   "name": "python",
   "nbconvert_exporter": "python",
   "pygments_lexer": "ipython3",
   "version": "3.7.6"
  }
 },
 "nbformat": 4,
 "nbformat_minor": 2
}
