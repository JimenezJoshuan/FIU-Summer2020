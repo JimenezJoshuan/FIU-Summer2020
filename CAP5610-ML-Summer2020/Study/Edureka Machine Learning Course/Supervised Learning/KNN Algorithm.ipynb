{
 "cells": [
  {
   "cell_type": "code",
   "execution_count": 1,
   "metadata": {},
   "outputs": [],
   "source": [
    "%matplotlib inline\n",
    "import random\n",
    "import math\n",
    "import operator\n",
    "import numpy as np\n",
    "import pandas as pd\n",
    "import matplotlib.pyplot as plt\n",
    "import csv"
   ]
  },
  {
   "cell_type": "code",
   "execution_count": 2,
   "metadata": {},
   "outputs": [],
   "source": [
    "def loadDataset(filename, split, trainingSet=[], testSet=[]):\n",
    "    with open(filename, 'r') as csvfile:\n",
    "        lines = csv.reader(csvfile)\n",
    "        dataset = list(lines)\n",
    "        length = len(dataset)\n",
    "        for x in range(length):\n",
    "            for y in range(4):\n",
    "                dataset[x][y] = float(dataset[x][y])\n",
    "            if random.random() < split:\n",
    "                trainingSet.append(dataset[x])\n",
    "            else:\n",
    "                testSet.append(dataset[x])"
   ]
  },
  {
   "cell_type": "code",
   "execution_count": 3,
   "metadata": {},
   "outputs": [
    {
     "name": "stdout",
     "output_type": "stream",
     "text": [
      "Train: 107\n",
      "Test: 43\n"
     ]
    }
   ],
   "source": [
    "trainingSet = []\n",
    "testSet = []\n",
    "loadDataset('iris.txt', 0.66, trainingSet, testSet)\n",
    "print('Train: ' + repr(len(trainingSet)))\n",
    "print('Test: ' + repr(len(testSet)))"
   ]
  },
  {
   "cell_type": "code",
   "execution_count": 4,
   "metadata": {},
   "outputs": [],
   "source": [
    "def euclidean(ins1, ins2, length):\n",
    "    distance = 0\n",
    "    for x in range(length):\n",
    "        distance += pow((ins1[x] - ins2[x]), 2)\n",
    "    return math.sqrt(distance)"
   ]
  },
  {
   "cell_type": "code",
   "execution_count": 5,
   "metadata": {},
   "outputs": [],
   "source": [
    "def getNeighbors(trainingSet, testInstance, k):\n",
    "    distances = []\n",
    "    length = len(testInstance) - 1\n",
    "    for x in range(len(trainingSet)):\n",
    "        dist = euclidean(testInstance, trainingSet[x], length)\n",
    "        distances.append((trainingSet[x], dist))\n",
    "    distances.sort(key=operator.itemgetter(1))\n",
    "    neighbors = []\n",
    "    for x in range(k):\n",
    "        neighbors.append(distances[x][0])\n",
    "    return neighbors"
   ]
  },
  {
   "cell_type": "code",
   "execution_count": 6,
   "metadata": {},
   "outputs": [
    {
     "name": "stdout",
     "output_type": "stream",
     "text": [
      "[[4, 4, 4, 'b']]\n"
     ]
    }
   ],
   "source": [
    "trainSet = [[2, 2, 2, 'a'], [4, 4, 4, 'b']]\n",
    "testInstance = [5, 5, 5]\n",
    "k = 1\n",
    "neighbors = getNeighbors(trainSet, testInstance, 1)\n",
    "print(neighbors)"
   ]
  },
  {
   "cell_type": "code",
   "execution_count": 7,
   "metadata": {},
   "outputs": [],
   "source": [
    "def getResponse(neighbors):\n",
    "    classVotes = {}\n",
    "    for x in range(len(neighbors)):\n",
    "        response = neighbors[x][-1]\n",
    "        if response in classVotes:\n",
    "            classVotes[response] += 1\n",
    "        else:\n",
    "            classVotes[response] = 1\n",
    "    sortedVotes = sorted(classVotes.items(), key=operator.itemgetter(1), reverse=True)\n",
    "    return sortedVotes[0][0]"
   ]
  },
  {
   "cell_type": "code",
   "execution_count": 8,
   "metadata": {},
   "outputs": [
    {
     "name": "stdout",
     "output_type": "stream",
     "text": [
      "a\n"
     ]
    }
   ],
   "source": [
    "neighbors = [[1,1,1,'a'], [2,2,2,'a'], [3,3,3,'b']]\n",
    "response = getResponse(neighbors)\n",
    "print(response)"
   ]
  },
  {
   "cell_type": "code",
   "execution_count": 9,
   "metadata": {},
   "outputs": [],
   "source": [
    "def getAccuracy(testSet, predictions):\n",
    "    correct = 0\n",
    "    for x in range(len(testSet)):\n",
    "        if testSet[x][-1] is predictions[x]:\n",
    "            correct += 1\n",
    "    return (correct/float(len(testSet))) * 100.0"
   ]
  },
  {
   "cell_type": "code",
   "execution_count": 10,
   "metadata": {},
   "outputs": [
    {
     "name": "stdout",
     "output_type": "stream",
     "text": [
      "66.66666666666666\n"
     ]
    }
   ],
   "source": [
    "testSet = [[1,1,1,'a'], [2,2,2,'a'], [3,3,3,'b']]\n",
    "predictions = ['a','a','a']\n",
    "accuracy = getAccuracy(testSet, predictions)\n",
    "print(accuracy)"
   ]
  },
  {
   "cell_type": "code",
   "execution_count": 17,
   "metadata": {},
   "outputs": [
    {
     "name": "stdout",
     "output_type": "stream",
     "text": [
      "Train: 102\n",
      "Test: 48\n",
      "> predicted = 'setosa', actual = 'setosa'\n",
      "> predicted = 'setosa', actual = 'setosa'\n",
      "> predicted = 'setosa', actual = 'setosa'\n",
      "> predicted = 'setosa', actual = 'setosa'\n",
      "> predicted = 'setosa', actual = 'setosa'\n",
      "> predicted = 'setosa', actual = 'setosa'\n",
      "> predicted = 'setosa', actual = 'setosa'\n",
      "> predicted = 'setosa', actual = 'setosa'\n",
      "> predicted = 'setosa', actual = 'setosa'\n",
      "> predicted = 'setosa', actual = 'setosa'\n",
      "> predicted = 'setosa', actual = 'setosa'\n",
      "> predicted = 'setosa', actual = 'setosa'\n",
      "> predicted = 'setosa', actual = 'setosa'\n",
      "> predicted = 'setosa', actual = 'setosa'\n",
      "> predicted = 'setosa', actual = 'setosa'\n",
      "> predicted = 'versicolor', actual = 'versicolor'\n",
      "> predicted = 'versicolor', actual = 'versicolor'\n",
      "> predicted = 'versicolor', actual = 'versicolor'\n",
      "> predicted = 'versicolor', actual = 'versicolor'\n",
      "> predicted = 'versicolor', actual = 'versicolor'\n",
      "> predicted = 'versicolor', actual = 'versicolor'\n",
      "> predicted = 'versicolor', actual = 'versicolor'\n",
      "> predicted = 'versicolor', actual = 'versicolor'\n",
      "> predicted = 'virginica', actual = 'versicolor'\n",
      "> predicted = 'versicolor', actual = 'versicolor'\n",
      "> predicted = 'versicolor', actual = 'versicolor'\n",
      "> predicted = 'versicolor', actual = 'versicolor'\n",
      "> predicted = 'virginica', actual = 'versicolor'\n",
      "> predicted = 'versicolor', actual = 'versicolor'\n",
      "> predicted = 'versicolor', actual = 'versicolor'\n",
      "> predicted = 'versicolor', actual = 'versicolor'\n",
      "> predicted = 'versicolor', actual = 'versicolor'\n",
      "> predicted = 'versicolor', actual = 'versicolor'\n",
      "> predicted = 'versicolor', actual = 'versicolor'\n",
      "> predicted = 'virginica', actual = 'virginica'\n",
      "> predicted = 'virginica', actual = 'virginica'\n",
      "> predicted = 'virginica', actual = 'virginica'\n",
      "> predicted = 'virginica', actual = 'virginica'\n",
      "> predicted = 'virginica', actual = 'virginica'\n",
      "> predicted = 'virginica', actual = 'virginica'\n",
      "> predicted = 'virginica', actual = 'virginica'\n",
      "> predicted = 'virginica', actual = 'virginica'\n",
      "> predicted = 'virginica', actual = 'virginica'\n",
      "> predicted = 'virginica', actual = 'virginica'\n",
      "> predicted = 'virginica', actual = 'virginica'\n",
      "> predicted = 'virginica', actual = 'virginica'\n",
      "> predicted = 'virginica', actual = 'virginica'\n",
      "> predicted = 'virginica', actual = 'virginica'\n",
      "Accuracy: 0.0%\n"
     ]
    }
   ],
   "source": [
    "def main():\n",
    "    trainingSet = []\n",
    "    testSet = []\n",
    "    split = 0.67\n",
    "    loadDataset('iris.txt', split, trainingSet, testSet)\n",
    "    print('Train: ' + repr(len(trainingSet)))\n",
    "    print('Test: ' + repr(len(testSet)))\n",
    "    predictions = []\n",
    "    k = 3\n",
    "    for x in range(len(testSet)):\n",
    "        neighbors = getNeighbors(trainingSet, testSet[x], k)\n",
    "        result = getResponse(neighbors)\n",
    "        predictions.append(result)\n",
    "        print('> predicted = ' + repr(result) + ', actual = ' + repr(testSet[x][-1]))\n",
    "    accuracy = getAccuracy(testSet, predictions)\n",
    "    print('Accuracy: ' + repr(accuracy) + '%')\n",
    "    \n",
    "main()"
   ]
  }
 ],
 "metadata": {
  "kernelspec": {
   "display_name": "Python 3",
   "language": "python",
   "name": "python3"
  },
  "language_info": {
   "codemirror_mode": {
    "name": "ipython",
    "version": 3
   },
   "file_extension": ".py",
   "mimetype": "text/x-python",
   "name": "python",
   "nbconvert_exporter": "python",
   "pygments_lexer": "ipython3",
   "version": "3.7.6"
  }
 },
 "nbformat": 4,
 "nbformat_minor": 4
}
